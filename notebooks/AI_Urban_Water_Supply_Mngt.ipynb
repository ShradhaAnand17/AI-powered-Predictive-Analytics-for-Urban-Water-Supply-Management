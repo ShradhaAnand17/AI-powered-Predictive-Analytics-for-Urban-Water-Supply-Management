{
  "nbformat": 4,
  "nbformat_minor": 0,
  "metadata": {
    "colab": {
      "provenance": []
    },
    "kernelspec": {
      "name": "python3",
      "display_name": "Python 3"
    },
    "language_info": {
      "name": "python"
    }
  },
  "cells": [
    {
      "cell_type": "code",
      "source": [
        "import numpy as np\n",
        "import pandas as pd\n",
        "\n",
        "# Basic setup\n",
        "zones = [\"Core\", \"ULB\", \"110 Villages\"]\n",
        "base_pop = {\"Core\": 6480000, \"ULB\": 4810000, \"110 Villages\": 2820000}\n",
        "lpcd = {\"Core\": 150, \"ULB\": 135, \"110 Villages\": 120}\n",
        "growth_rate = 0.02\n",
        "rainfall_means = [2, 3, 10, 20, 50, 100, 150, 120, 80, 30, 10, 5]\n",
        "temp_means = [22, 24, 28, 30, 32, 29, 28, 27, 26, 25, 23, 22]\n",
        "supply_limits = {\"Core\": 900, \"ULB\": 600, \"110 Villages\": 300}\n",
        "scada_coverage = {\"Core\": \"Full\", \"ULB\": \"Partial\", \"110 Villages\": \"None\"}\n",
        "holidays = [\"01-26\", \"08-15\", \"10-02\", \"12-25\"]  # Fixed-date holidays\n",
        "\n",
        "dates = pd.date_range(\"2021-01-01\", \"2023-12-31\", freq=\"D\")\n",
        "np.random.seed(42)\n",
        "records = []\n",
        "\n",
        "for zone in zones:\n",
        "    for date in dates:\n",
        "        year_diff = date.year - 2021\n",
        "        month = date.month\n",
        "        pop = base_pop[zone] * ((1 + growth_rate) ** year_diff)\n",
        "        temp = np.random.normal(temp_means[month - 1], 2.5)\n",
        "        rain = max(0, np.random.normal(rainfall_means[month - 1], 20))\n",
        "\n",
        "        base_demand = (pop * lpcd[zone]) / 1_000_000  # MLD\n",
        "        noise = base_demand * (0.05 * np.random.randn())\n",
        "        temp_effect = (temp - 28) * 0.5\n",
        "        rain_effect = -0.05 * rain\n",
        "        demand = base_demand + noise + temp_effect + rain_effect\n",
        "\n",
        "        # 🔹 Weekend / Holiday Adjustment\n",
        "        is_weekend = date.weekday() >= 5\n",
        "        is_holiday = date.strftime(\"%m-%d\") in holidays\n",
        "        if is_weekend or is_holiday:\n",
        "            demand *= np.random.uniform(0.9, 0.95)  # 5–10% reduction\n",
        "\n",
        "        # 🔹 Unaccounted Water Loss (Theft/Leak)\n",
        "        unaccounted_loss = demand * np.random.uniform(0.05, 0.15)\n",
        "        demand += unaccounted_loss\n",
        "\n",
        "        # 🔹 Pipe Burst (Rare spike event, ~0.5% chance)\n",
        "        pipe_burst = np.random.rand() < 0.005\n",
        "        if pipe_burst:\n",
        "            demand += np.random.uniform(30, 60)  # Sudden burst: +30–60 MLD\n",
        "\n",
        "        demand = round(max(0, demand), 2)\n",
        "\n",
        "        slum_ratio = 0.12 if zone == \"Core\" else 0.05\n",
        "        slum_demand = round((pop * slum_ratio * 30) / 1_000_000, 2)\n",
        "        groundwater = round(demand * 0.2, 2)\n",
        "        shortage = demand > base_demand * 1.05\n",
        "        deficit = max(0, demand - base_demand)\n",
        "        tankers = int(deficit * 1000 / 10) if shortage else 0\n",
        "\n",
        "        records.append([\n",
        "            date, zone, int(pop), round(temp, 2), round(rain, 2), base_demand,\n",
        "            demand, slum_demand, groundwater, unaccounted_loss, pipe_burst,\n",
        "            shortage, tankers, scada_coverage[zone]\n",
        "        ])\n",
        "\n",
        "# Final dataset\n",
        "columns = [\n",
        "    \"Date\", \"Zone\", \"Population\", \"Temperature_C\", \"Rainfall_mm\", \"Base_Demand_MLD\",\n",
        "    \"Water_Demand_MLD\", \"Slum_Consumption_MLD\", \"Groundwater_Use_MLD\",\n",
        "    \"Unaccounted_Loss_MLD\", \"Pipe_Burst_Event\", \"Shortage\", \"Tankers_Dispatched\", \"SCADA_Coverage\"\n",
        "]\n",
        "\n",
        "df = pd.DataFrame(records, columns=columns)\n",
        "df.to_csv(\"Enhanced_Urban_Water_Demand_Dataset.csv\", index=False)\n",
        "print(\"✅ Enhanced dataset saved as 'Enhanced_Urban_Water_Demand_Dataset.csv'\")\n"
      ],
      "metadata": {
        "colab": {
          "base_uri": "https://localhost:8080/"
        },
        "id": "Oa5Jjca316JT",
        "outputId": "5a772514-4b22-4fcb-f1ae-1fd285e92e48"
      },
      "execution_count": 1,
      "outputs": [
        {
          "output_type": "stream",
          "name": "stdout",
          "text": [
            "✅ Enhanced dataset saved as 'Enhanced_Urban_Water_Demand_Dataset.csv'\n"
          ]
        }
      ]
    },
    {
      "cell_type": "code",
      "source": [
        "# 📦 Install dependencies\n",
        "!pip install gradio pandas matplotlib scikit-learn --quiet\n",
        "\n",
        "# ✅ Import Libraries\n",
        "import pandas as pd\n",
        "import matplotlib.pyplot as plt\n",
        "import gradio as gr\n",
        "from sklearn.ensemble import RandomForestRegressor\n",
        "from sklearn.model_selection import train_test_split\n",
        "\n",
        "# ✅ Load Dataset\n",
        "df = pd.read_csv(\"Enhanced_Urban_Water_Demand_Dataset.csv\")\n",
        "df[\"Zone_Code\"] = df[\"Zone\"].map({\"Core\": 0, \"ULB\": 1, \"110 Villages\": 2})\n",
        "\n",
        "# ✅ Model Training\n",
        "features = [\"Population\", \"Temperature_C\", \"Rainfall_mm\", \"Zone_Code\"]\n",
        "X = df[features]\n",
        "y = df[\"Water_Demand_MLD\"]\n",
        "\n",
        "X_train, X_test, y_train, y_test = train_test_split(X, y, test_size=0.2, random_state=42)\n",
        "model = RandomForestRegressor(n_estimators=200, random_state=42)\n",
        "model.fit(X_train, y_train)\n",
        "\n",
        "\n",
        "# ✅ Fixed Supply per Zone (MLD) and Tanker Capacity\n",
        "supply_limits = {\"Core\": 900, \"ULB\": 600, \"110 Villages\": 300}\n",
        "tanker_capacity_kl = 10\n",
        "\n",
        "# ✅ Gradio Function: Predict + Allocate\n",
        "def predict_allocation(zone, population, temperature, rainfall):\n",
        "    zone_code = {\"Core\": 0, \"ULB\": 1, \"110 Villages\": 2}[zone]\n",
        "    input_data = [[population, temperature, rainfall, zone_code]]\n",
        "\n",
        "    # Predict Demand\n",
        "    predicted_demand = model.predict(input_data)[0]\n",
        "    supply = supply_limits[zone]\n",
        "    deficit = max(0, predicted_demand - supply)\n",
        "    tankers = int(deficit * 1000 / tanker_capacity_kl)\n",
        "\n",
        "    # Summary Output\n",
        "    summary = (\n",
        "        f\"📍 Zone: {zone}\\n\"\n",
        "        f\"👥 Population: {int(population)}\\n\"\n",
        "        f\"🌡️ Temperature: {temperature} °C\\n\"\n",
        "        f\"🌧️ Rainfall: {rainfall} mm\\n\\n\"\n",
        "        f\"💧 Predicted Water Demand: {predicted_demand:.2f} MLD\\n\"\n",
        "        f\"🚰 Supply Available: {supply} MLD\\n\"\n",
        "        f\"⚠️ Deficit: {deficit:.2f} MLD\\n\"\n",
        "        f\"🚛 Tankers Required: {tankers} (10 KL each)\\n\"\n",
        "    )\n",
        "\n",
        "    # Visualization\n",
        "    fig, ax = plt.subplots(figsize=(4, 4))\n",
        "    ax.bar([\"Demand\", \"Supply\"], [predicted_demand, supply], color=[\"blue\", \"green\"])\n",
        "    ax.set_ylabel(\"MLD\")\n",
        "    ax.set_title(f\"{zone} - Demand vs Supply\")\n",
        "    plt.tight_layout()\n",
        "\n",
        "    return summary, fig\n",
        "\n",
        "# ✅ Gradio UI\n",
        "gr.Interface(\n",
        "    fn=predict_allocation,\n",
        "    inputs=[\n",
        "        gr.Dropdown([\"Core\", \"ULB\", \"110 Villages\"], label=\"Select Zone\"),\n",
        "        gr.Number(label=\"Population\", value=5000000),\n",
        "        gr.Number(label=\"Temperature (°C)\", value=30),\n",
        "        gr.Number(label=\"Rainfall (mm)\", value=20)\n",
        "    ],\n",
        "    outputs=[\n",
        "        gr.Textbox(label=\"Tanker Allocation Summary\"),\n",
        "        gr.Plot(label=\"Demand vs Supply Chart\")\n",
        "    ],\n",
        "    title=\"💧 Urban Water Demand + 🚛 Tanker Allocator\",\n",
        "    description=\"Select a zone and enter current population, temperature, and rainfall to predict daily water demand and tanker requirements.\"\n",
        ").launch()\n"
      ],
      "metadata": {
        "colab": {
          "base_uri": "https://localhost:8080/",
          "height": 646
        },
        "id": "oSa5Njkd3xF5",
        "outputId": "8c86ae09-d5c6-4a29-9716-40327e68c016"
      },
      "execution_count": 2,
      "outputs": [
        {
          "output_type": "stream",
          "name": "stdout",
          "text": [
            "It looks like you are running Gradio on a hosted Jupyter notebook, which requires `share=True`. Automatically setting `share=True` (you can turn this off by setting `share=False` in `launch()` explicitly).\n",
            "\n",
            "Colab notebook detected. To show errors in colab notebook, set debug=True in launch()\n",
            "* Running on public URL: https://dd74e1c3f5b4f014f9.gradio.live\n",
            "\n",
            "This share link expires in 1 week. For free permanent hosting and GPU upgrades, run `gradio deploy` from the terminal in the working directory to deploy to Hugging Face Spaces (https://huggingface.co/spaces)\n"
          ]
        },
        {
          "output_type": "display_data",
          "data": {
            "text/plain": [
              "<IPython.core.display.HTML object>"
            ],
            "text/html": [
              "<div><iframe src=\"https://dd74e1c3f5b4f014f9.gradio.live\" width=\"100%\" height=\"500\" allow=\"autoplay; camera; microphone; clipboard-read; clipboard-write;\" frameborder=\"0\" allowfullscreen></iframe></div>"
            ]
          },
          "metadata": {}
        },
        {
          "output_type": "execute_result",
          "data": {
            "text/plain": []
          },
          "metadata": {},
          "execution_count": 2
        }
      ]
    },
    {
      "cell_type": "code",
      "source": [
        "# 📦 Install requirements\n",
        "!pip install gradio pandas matplotlib scikit-learn --quiet\n",
        "\n",
        "# ✅ Imports\n",
        "import gradio as gr\n",
        "import pandas as pd\n",
        "import matplotlib.pyplot as plt\n",
        "from sklearn.ensemble import RandomForestRegressor\n",
        "from sklearn.model_selection import train_test_split\n",
        "\n",
        "# ✅ Load dataset\n",
        "df = pd.read_csv(\"Enhanced_Urban_Water_Demand_Dataset.csv\")\n",
        "df[\"Zone_Code\"] = df[\"Zone\"].map({\"Core\": 0, \"ULB\": 1, \"110 Villages\": 2})\n",
        "\n",
        "# ✅ Train model\n",
        "X = df[[\"Population\", \"Temperature_C\", \"Rainfall_mm\", \"Zone_Code\"]]\n",
        "y = df[\"Water_Demand_MLD\"]\n",
        "model = RandomForestRegressor(n_estimators=200, random_state=42).fit(X, y)\n",
        "\n",
        "# ✅ Fixed supply\n",
        "supply_limits = {\"Core\": 900, \"ULB\": 600, \"110 Villages\": 300}\n",
        "tanker_capacity_kl = 10\n",
        "\n",
        "# ✅ Predict + Allocate with leakage & tanker cap\n",
        "def predict_with_constraints(zone, population, temp, rain, leakage_pct, max_tankers):\n",
        "    zone_code = {\"Core\": 0, \"ULB\": 1, \"110 Villages\": 2}[zone]\n",
        "    base_demand = model.predict([[population, temp, rain, zone_code]])[0]\n",
        "\n",
        "    leakage_mld = base_demand * (leakage_pct / 100)\n",
        "    adjusted_demand = base_demand + leakage_mld\n",
        "\n",
        "    supply = supply_limits[zone]\n",
        "    deficit = max(0, adjusted_demand - supply)\n",
        "    raw_tankers = int(deficit * 1000 / tanker_capacity_kl)\n",
        "    capped_tankers = min(raw_tankers, max_tankers)\n",
        "\n",
        "    summary = (\n",
        "        f\"📍 Zone: {zone}\\n\"\n",
        "        f\"👥 Population: {int(population)}\\n\"\n",
        "        f\"🌡️ Temperature: {temp} °C\\n\"\n",
        "        f\"🌧️ Rainfall: {rain} mm\\n\"\n",
        "        f\"💦 Leakage Assumed: {leakage_pct}% → +{leakage_mld:.2f} MLD\\n\\n\"\n",
        "        f\"💧 Adjusted Demand: {adjusted_demand:.2f} MLD\\n\"\n",
        "        f\"🚰 Supply: {supply} MLD\\n\"\n",
        "        f\"⚠️ Deficit: {deficit:.2f} MLD\\n\"\n",
        "        f\"🚛 Raw Tankers: {raw_tankers}\\n\"\n",
        "        f\"🔒 Tankers Dispatched (Capped): {capped_tankers}\"\n",
        "    )\n",
        "\n",
        "    # Plot\n",
        "    fig, ax = plt.subplots(figsize=(2, 2))\n",
        "    ax.bar([\"Demand\", \"Supply\"], [adjusted_demand, supply], color=[\"blue\", \"green\"])\n",
        "    ax.set_ylabel(\"MLD\")\n",
        "    ax.set_title(f\"{zone} - Adjusted Demand vs Supply\")\n",
        "    plt.tight_layout()\n",
        "    return summary, fig\n",
        "\n",
        "# ✅ Launch Gradio app\n",
        "gr.Interface(\n",
        "    fn=predict_with_constraints,\n",
        "    inputs=[\n",
        "        gr.Dropdown([\"Core\", \"ULB\", \"110 Villages\"], label=\"Select Zone\"),\n",
        "        gr.Number(label=\"Population\", value=5000000),\n",
        "        gr.Number(label=\"Temperature (°C)\", value=30),\n",
        "        gr.Number(label=\"Rainfall (mm)\", value=20),\n",
        "        gr.Slider(minimum=0, maximum=20, step=1, label=\"Leakage (%)\", value=5),\n",
        "        gr.Number(label=\"Max Tankers per Day (cap)\", value=5000)\n",
        "    ],\n",
        "    outputs=[\n",
        "        gr.Textbox(label=\"Prediction & Tanker Allocation Summary\"),\n",
        "        gr.Plot(label=\"Demand vs Supply Chart\")\n",
        "    ],\n",
        "    title=\"💧 Urban Water Demand + 🚛 Tanker Allocator (Leakage & Cap)\",\n",
        "    description=\"Predict adjusted water demand including leakage and limit daily tanker dispatch.\"\n",
        ").launch()\n"
      ],
      "metadata": {
        "colab": {
          "base_uri": "https://localhost:8080/",
          "height": 646
        },
        "id": "PpmhvikJ6LVm",
        "outputId": "f83c3a14-67ab-4246-bd1f-fa2b4969b841"
      },
      "execution_count": 3,
      "outputs": [
        {
          "output_type": "stream",
          "name": "stdout",
          "text": [
            "It looks like you are running Gradio on a hosted Jupyter notebook, which requires `share=True`. Automatically setting `share=True` (you can turn this off by setting `share=False` in `launch()` explicitly).\n",
            "\n",
            "Colab notebook detected. To show errors in colab notebook, set debug=True in launch()\n",
            "* Running on public URL: https://acb38a960a5c8ca65b.gradio.live\n",
            "\n",
            "This share link expires in 1 week. For free permanent hosting and GPU upgrades, run `gradio deploy` from the terminal in the working directory to deploy to Hugging Face Spaces (https://huggingface.co/spaces)\n"
          ]
        },
        {
          "output_type": "display_data",
          "data": {
            "text/plain": [
              "<IPython.core.display.HTML object>"
            ],
            "text/html": [
              "<div><iframe src=\"https://acb38a960a5c8ca65b.gradio.live\" width=\"100%\" height=\"500\" allow=\"autoplay; camera; microphone; clipboard-read; clipboard-write;\" frameborder=\"0\" allowfullscreen></iframe></div>"
            ]
          },
          "metadata": {}
        },
        {
          "output_type": "execute_result",
          "data": {
            "text/plain": []
          },
          "metadata": {},
          "execution_count": 3
        }
      ]
    },
    {
      "cell_type": "code",
      "source": [
        "from sklearn.metrics import mean_squared_error, mean_absolute_error, r2_score\n",
        "import numpy as np\n",
        "\n",
        "# Split test data (if not already done)\n",
        "from sklearn.model_selection import train_test_split\n",
        "\n",
        "X = df[[\"Population\", \"Temperature_C\", \"Rainfall_mm\", \"Zone_Code\"]]\n",
        "y = df[\"Water_Demand_MLD\"]\n",
        "X_train, X_test, y_train, y_test = train_test_split(X, y, test_size=0.2, random_state=42)\n",
        "\n",
        "# Re-train model (if needed)\n",
        "from sklearn.ensemble import RandomForestRegressor\n",
        "model = RandomForestRegressor(n_estimators=200, random_state=42)\n",
        "model.fit(X_train, y_train)\n",
        "\n",
        "# Predictions\n",
        "y_pred = model.predict(X_test)\n",
        "\n",
        "# 🔍 Evaluation Metrics\n",
        "mse = mean_squared_error(y_test, y_pred)\n",
        "rmse = np.sqrt(mse)\n",
        "mae = mean_absolute_error(y_test, y_pred)\n",
        "r2 = r2_score(y_test, y_pred)\n",
        "\n",
        "# 📊 Print Results\n",
        "print(\"🔍 Model Evaluation Metrics:\")\n",
        "print(f\"✅ R² Score        : {r2:.4f}  (1.0 is perfect)\")\n",
        "print(f\"📉 Mean Absolute Error (MAE) : {mae:.2f} MLD\")\n",
        "print(f\"📉 Root Mean Squared Error (RMSE): {rmse:.2f} MLD\")\n"
      ],
      "metadata": {
        "id": "9ZGSfGFmCdgZ",
        "outputId": "ef12bbdc-b306-4bbc-9afb-501f8c1fe76a",
        "colab": {
          "base_uri": "https://localhost:8080/"
        }
      },
      "execution_count": 4,
      "outputs": [
        {
          "output_type": "stream",
          "name": "stdout",
          "text": [
            "🔍 Model Evaluation Metrics:\n",
            "✅ R² Score        : 0.9604  (1.0 is perfect)\n",
            "📉 Mean Absolute Error (MAE) : 42.68 MLD\n",
            "📉 Root Mean Squared Error (RMSE): 57.80 MLD\n"
          ]
        }
      ]
    }
  ]
}